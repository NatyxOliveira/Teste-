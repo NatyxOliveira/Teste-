{
  "nbformat": 4,
  "nbformat_minor": 0,
  "metadata": {
    "colab": {
      "provenance": [],
      "include_colab_link": true
    },
    "kernelspec": {
      "name": "python3",
      "display_name": "Python 3"
    },
    "language_info": {
      "name": "python"
    }
  },
  "cells": [
    {
      "cell_type": "markdown",
      "metadata": {
        "id": "view-in-github",
        "colab_type": "text"
      },
      "source": [
        "<a href=\"https://colab.research.google.com/github/NatyxOliveira/Teste-/blob/main/KNRA_seguros.ipynb\" target=\"_parent\"><img src=\"https://colab.research.google.com/assets/colab-badge.svg\" alt=\"Open In Colab\"/></a>"
      ]
    },
    {
      "cell_type": "code",
      "source": [
        "df1 = pd.read_excel('/content/D.SDA.PDA.005.CAT.202403.xltx')\n",
        "df2 = pd.read_excel('/content/D.SDA.PDA.005.CAT.202404.xltx')\n",
        "df3 = pd.read_excel('/content/D.SDA.PDA.005.CAT.202405.xltx')\n",
        "df4 = pd.read_excel('/content/D.SDA.PDA.005.CAT.202406.xltx')\n",
        "df5 = pd.read_excel('/content/D.SDA.PDA.005.CAT.202306.xltx')\n",
        "df6 = pd.read_excel('/content/D.SDA.PDA.005.CAT.202307.xltx')\n",
        "df7 = pd.read_excel('/content/D.SDA.PDA.005.CAT.202308.xltx')\n",
        "df8 = pd.read_excel('/content/D.SDA.PDA.005.CAT.202309.xltx')\n",
        "df9 = pd.read_excel('/content/D.SDA.PDA.005.CAT.202310.xltx')\n",
        "df10 = pd.read_excel('/content/D.SDA.PDA.005.CAT.202311.xltx')\n",
        "df11 = pd.read_excel('/content/D.SDA.PDA.005.CAT.202312.xltx')\n",
        "df12 = pd.read_excel('/content/D.SDA.PDA.005.CAT.202401.xltx')\n",
        "\n",
        "\n",
        "\n",
        "\n",
        "combined_df = pd.concat([df1, df2, df3, df4, df5, df6, df7, df8, df9, df10, df11, df12])"
      ],
      "metadata": {
        "id": "6ERm78sHmW9j"
      },
      "execution_count": null,
      "outputs": []
    },
    {
      "cell_type": "code",
      "source": [
        "print(combined_df)"
      ],
      "metadata": {
        "id": "GMsu5f2gqn0l",
        "outputId": "7188d757-010d-42ba-b144-bcbf6b01a2e4",
        "colab": {
          "base_uri": "https://localhost:8080/"
        }
      },
      "execution_count": null,
      "outputs": [
        {
          "output_type": "stream",
          "name": "stdout",
          "text": [
            "      Agente  Causador  Acidente Data Acidente     CBO                 CBO.1  \\\n",
            "0           Chao - Superficie Ut    2024-02-21  724205  724205-Montador Estr   \n",
            "1           Telhado                 2024-02-21  724205  724205-Montador Estr   \n",
            "2           Particulas - nao Ide    2024-02-27  724315  724315-Soldador        \n",
            "3           Ataque de Ser Vivo,     2024-01-15  411010  411010-Assistente Ad   \n",
            "4           Embalagem e Recipien    2024-01-24  223505  223505-Enfermeiro      \n",
            "...                          ...           ...     ...                   ...   \n",
            "44256       Tapete, Forracao de     2024-01-29  848520  848520-Magarefe        \n",
            "44257       Passarela ou Platafo    2024-01-22  848520  848520-Magarefe        \n",
            "44258       Superficie e Estrutu    2024-01-24  214410  214410-Eng. Mecânico   \n",
            "44259       Animal Vivo             2024-01-22  841468  841468-Preparador de   \n",
            "44260       Chao - Superficie Ut    2024-01-30  848520  848520-Magarefe        \n",
            "\n",
            "       CID-10              CID-10.1  CNAE2.0 Empregador  CNAE2.0 Empregador.1  \\\n",
            "0      S800    S80.0 Contusao do Jo                2511  Fabricacao de Estrut   \n",
            "1      W188    W18.8 Outr Locais Es                2511  Fabricacao de Estrut   \n",
            "2      T150    T15.0 Corpo Estranho                2930  Fabricacao de Cabine   \n",
            "3      F431    F43.1 Estado de Stre                8610  Atividades de Atendi   \n",
            "4      S900    S90.0 Contusao do To                8610  Atividades de Atendi   \n",
            "...       ...                   ...                 ...                   ...   \n",
            "44256  S934    S93.4 Entorse e Dist                1012  Abate de Suinos, Ave   \n",
            "44257  S801    S80.1 Contusao de Ou                1012  Abate de Suinos, Ave   \n",
            "44258  X234    X23.4 Rua e Estrada                 1012  Abate de Suinos, Ave   \n",
            "44259  X226    X22.6 Areas Industri                1012  Abate de Suinos, Ave   \n",
            "44260  S700    S70.0 Contusao do Qu                1012  Abate de Suinos, Ave   \n",
            "\n",
            "               Emitente CAT  Espécie do benefício  ...  UF  Munic.  Acidente  \\\n",
            "0      Empregador            Pa                    ...  {ñ class}              \n",
            "1      Empregador            Pa                    ...  {ñ class}              \n",
            "2      Empregador            Pa                    ...  {ñ class}              \n",
            "3      Empregador            Pa                    ...  Maranhão               \n",
            "4      Empregador            Pa                    ...  Maranhão               \n",
            "...                     ...                   ...  ...                   ...   \n",
            "44256  Empregador            Pa                    ...  Rondônia               \n",
            "44257  Empregador            Pa                    ...  {ñ class}              \n",
            "44258  Empregador            Pa                    ...  {ñ class}              \n",
            "44259  Empregador            Pa                    ...  {ñ class}              \n",
            "44260  Empregador            Pa                    ...  {ñ class}              \n",
            "\n",
            "       UF Munic. Empregador Data  Afastamento Data Despacho Benefício  \\\n",
            "0      Goiás                       00/00/0000              00/00/0000   \n",
            "1      Goiás                       00/00/0000              00/00/0000   \n",
            "2      Rio Grande do Sul           00/00/0000              00/00/0000   \n",
            "3      São Paulo                   00/00/0000              00/00/0000   \n",
            "4      São Paulo                   00/00/0000              00/00/0000   \n",
            "...                     ...               ...                     ...   \n",
            "44256  Minas Gerais                00/00/0000              00/00/0000   \n",
            "44257  Rio Grande do Sul           00/00/0000              00/00/0000   \n",
            "44258  Rio Grande do Sul           00/00/0000              00/00/0000   \n",
            "44259  Santa Catarina              00/00/0000              00/00/0000   \n",
            "44260  Santa Catarina              00/00/0000              00/00/0000   \n",
            "\n",
            "      Data Acidente.1      Data Nascimento Data Emissão CAT  \\\n",
            "0          2024-02-21  1996-09-19 00:00:00       2024-03-01   \n",
            "1          2024-02-21  1996-06-15 00:00:00       2024-03-01   \n",
            "2          2024-02-27  1997-02-03 00:00:00       2024-03-01   \n",
            "3          2024-01-15  1988-07-17 00:00:00       2024-03-01   \n",
            "4          2024-01-24  1983-06-21 00:00:00       2024-03-01   \n",
            "...               ...                  ...              ...   \n",
            "44256      2024-01-29  1994-06-04 00:00:00       2024-01-31   \n",
            "44257      2024-01-22  1982-07-28 00:00:00       2024-01-31   \n",
            "44258      2024-01-24  1998-01-31 00:00:00       2024-01-31   \n",
            "44259      2024-01-22  1979-05-12 00:00:00       2024-01-31   \n",
            "44260      2024-01-30  1970-01-31 00:00:00       2024-01-31   \n",
            "\n",
            "         Tipo de Empregador CNPJ/CEI Empregador Data Acidente.2  \n",
            "0      Cnpj/Cgc                    4.858800e+13             NaT  \n",
            "1      Cnpj/Cgc                    4.858800e+13             NaT  \n",
            "2      Cnpj/Cgc                    8.908614e+13             NaT  \n",
            "3      Cnpj/Cgc                    6.058863e+12             NaT  \n",
            "4      Cnpj/Cgc                    6.058863e+12             NaT  \n",
            "...                     ...                 ...             ...  \n",
            "44256  Cnpj/Cgc                    1.838723e+12             NaT  \n",
            "44257  Cnpj/Cgc                    1.838723e+12             NaT  \n",
            "44258  Cnpj/Cgc                    1.838723e+12             NaT  \n",
            "44259  Cnpj/Cgc                    1.838723e+12             NaT  \n",
            "44260  Cnpj/Cgc                    1.838723e+12             NaT  \n",
            "\n",
            "[707681 rows x 28 columns]\n"
          ]
        }
      ]
    }
  ]
}